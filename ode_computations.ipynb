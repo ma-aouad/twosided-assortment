{
 "cells": [
  {
   "cell_type": "code",
   "execution_count": 12,
   "id": "8d6c3f14",
   "metadata": {},
   "outputs": [],
   "source": [
    "#!/usr/bin/env python2\n",
    "# -*- coding: utf-8 -*-\n",
    "\"\"\"\n",
    "Created on Sun Jun 21 12:16:12 2020\n",
    "\n",
    "\"\"\"\n",
    "import numpy as np\n",
    "\n",
    "\n",
    "def computes_discount_function(g_list,T,step):\n",
    "    '''\n",
    "    Generates a discount function the gamma nested logit model\n",
    "    \n",
    "    Args:\n",
    "        g_list <- nest dissimilarity values (list of floats)\n",
    "        T <- number of steps in the discretization (integer)\n",
    "        step <- discretization accuracy of discount function (float)        \n",
    "    '''\n",
    "    # Stores the discount function values\n",
    "    y_array = np.zeros((len(g_list),T))\n",
    "    # Stores the discount integral  \n",
    "    int_y_array = np.zeros((len(g_list),T))\n",
    "    q = 0\n",
    "    # Loop computes the discount function + best guarantee\n",
    "    for g in g_list:\n",
    "        yes= True\n",
    "        C = 0.5-step\n",
    "        delta = 0.01 # accuracy of DP method\n",
    "        Delta = int(1/delta)+1 # number of states for approximating largest value so far\n",
    "        int_y = np.zeros(T) # saves integral function with respect to iteration over C\n",
    "        y = np.zeros(T) # saves discount function with respect to iteration over C\n",
    "        # Loop to find the maximum constant for which ODE is satisfied\n",
    "        while (yes == True) and (C<0.8):\n",
    "            C += step\n",
    "    \n",
    "            #Data structures of of DP\n",
    "            dynamic_prog_val = np.zeros((T,Delta)) # value of integral given state\n",
    "            dynamic_prog_dec = np.zeros((T,Delta)) # current discount value given state \n",
    "    \n",
    "            #Initialization of DP     \n",
    "            dynamic_prog_dec[0,:] = np.arange(Delta)*delta\n",
    "            too_large = int(((1-C)*Delta)+1)\n",
    "            dynamic_prog_dec[0,too_large:] = -1\n",
    "            dynamic_prog_val[0,:] = (dynamic_prog_dec[0,:]+1e-15)*(1.0/T)\n",
    "            dynamic_prog_val[0,too_large:] = -1\n",
    "            \n",
    "            for t in range(1,T):\n",
    "                #First we compute for each integral value what is the corresponding \n",
    "                #maximal value that can be saved\n",
    "                maximal_delta = np.zeros(Delta)\n",
    "                for d in range(Delta):\n",
    "                    int_y_current = dynamic_prog_val[t-1,d]\n",
    "                    if int_y_current > -1:\n",
    "                        # Lower bound on alpha*\n",
    "                        lb = min(0.99999,int_y_current/C)\n",
    "                        # Upper bound on alpha*           \n",
    "                        ub = 0.99999\n",
    "                        # Gap between bounds \n",
    "                        gap = 1\n",
    "                        # Current x\n",
    "                        x = float(t)/T \n",
    "                        min_val = 0\n",
    "                        # Loop approximates the minimization with respect to alpha\n",
    "                        while (gap > 0.0001) and (lb<0.99998) \\\n",
    "                            and (C*ub > int_y_current) and (ub>0.00002) \\\n",
    "                            and (min_val <= 1):\n",
    "                            tb = (lb + ub)/2\n",
    "                            rhs = C*tb - int_y_current\n",
    "                            theta = tb/x*(1-x)/(1-tb)  \n",
    "                            if theta < 0.0001:\n",
    "                                lhs = C*g*np.power(theta, 1/g)\n",
    "                            else:\n",
    "                                lhs = C*(np.power(1+np.power(theta, 1/g),g)-1)\n",
    "                            lhs = lhs*(1-tb)*(1-tb)*x/(1-x)/\\\n",
    "                                np.power(1- 1/(1+np.power(theta,1/g)),1-g)                \n",
    "                            \n",
    "                            theta1 = lb/x*(1-x)/(1-lb)\n",
    "                            theta2 = ub/x*(1-x)/(1-ub)\n",
    "                            if theta1 < 0.0001:\n",
    "                                deta1 = x*g*np.power(theta1, 1/g)\n",
    "                            else:    \n",
    "                                deta1 = x*(np.power(1+np.power(theta1, 1/g),g)-1)\n",
    "                            if theta2 < 0.0001:\n",
    "                                deta2 = x*g*np.power(theta2, 1/g)\n",
    "                            else:    \n",
    "                                deta2 = x*(np.power(1+np.power(theta2, 1/g),g)-1)                            \n",
    "                            max_val = (C*ub - int_y_current)/(1-x)/deta1\n",
    "                            min_val = (C*lb - int_y_current)/(1-x)/deta2\n",
    "                            #first order condition for the optimality of alpha*\n",
    "                            gap = max_val - min_val\n",
    "                            if rhs > lhs:\n",
    "                                ub = tb\n",
    "                            else:\n",
    "                                lb = tb\n",
    "                        rhs = C*ub - int_y_current\n",
    "                        theta = lb/x*(1-x)/(1-lb)\n",
    "                        if theta < 0.0001:\n",
    "                            deta = g*np.power(theta, 1/g)\n",
    "                        else:                    \n",
    "                            deta = (np.power(1+np.power(theta, 1/g),g)-1)\n",
    "                        if deta > 0:\n",
    "                            current_max = int(max(-1,min(1,1-rhs/x/(1-x)/deta))*Delta)\n",
    "                        else: \n",
    "                            current_max = -1\n",
    "                        maximal_delta[d] = current_max\n",
    "                    else:\n",
    "                        maximal_delta[d] = -1\n",
    "                \n",
    "                for d in range(Delta):\n",
    "                    # feasibility means that we don't exceed the maximum saving\n",
    "                    feasible_states = np.where(maximal_delta>= d)[0]\n",
    "                    # feasibility means that the function is monotone\n",
    "                    feasible_states = feasible_states[feasible_states<=d]               \n",
    "                    if feasible_states.shape[0]> 0:\n",
    "                        # pick the maximum we can save                   \n",
    "                        dynamic_prog_val[t,d] = np.max(dynamic_prog_val[t-1,\\\n",
    "                                                             feasible_states]) \\\n",
    "                                                + d*delta/T                                         \n",
    "                        dynamic_prog_dec[t,d] = feasible_states[np.argmax(\\\n",
    "                                            dynamic_prog_val[t-1,feasible_states])]                 \n",
    "                    else:\n",
    "                        # by assigning -1, we kill this branch of the DP                    \n",
    "                        dynamic_prog_val[t,d] = -1\n",
    "                        dynamic_prog_dec[t,d] = -1                    \n",
    "            if np.max(np.minimum(dynamic_prog_val[T-1,:] > 0,dynamic_prog_dec[T-1,:] > 0)):\n",
    "                #Ultimately we should have not encountered any -1 for C to be feasible\n",
    "                #It is preferable to save the least amount while achieving the target            \n",
    "                selection = np.minimum(dynamic_prog_val[T-1,:] > 0,dynamic_prog_dec[T-1,:] > 0)\n",
    "                saves_less = np.argmin(dynamic_prog_val[T-1,selection])\n",
    "                saves_less = np.where(selection)[0][saves_less]\n",
    "                y[T-1] = saves_less*delta\n",
    "                int_y[T-1] = dynamic_prog_val[T-1,saves_less]\n",
    "                for t in range(T-2,-1,-1):\n",
    "                    y[t] = dynamic_prog_dec[t+1,int(np.round(y[t+1]/delta))]*delta\n",
    "                    int_y[t] = dynamic_prog_val[t,int(np.round(y[t]/delta))]\n",
    "            else:\n",
    "                yes = False                \n",
    "                C = C - step\n",
    "                \n",
    "        y_array[q,:] = y\n",
    "        int_y_array[q,:] = int_y\n",
    "        print(g,C)\n",
    "        q+=1\n",
    "    return(y_array,int_y_array)\n",
    "\n",
    "\n",
    "def computes_approximation_guarantee(g_list,y,alpha_step,step,T):\n",
    "    '''\n",
    "    Computes the competitive ratio associated with a certain discount function\n",
    "    \n",
    "    Args:\n",
    "        g_list <- nest dissimilarity values (list of floats)    \n",
    "        y <- discount function (array float)\n",
    "        alpha_step  <- discretization of alpha (float)\n",
    "        step <- discretization of the performance guarantee (float)\n",
    "        T <- number of elements in the discount function array (integer)   \n",
    "    '''\n",
    "    alpha_T = int(1/alpha_step)    \n",
    "    perf = []\n",
    "    for g in g_list:\n",
    "        yes= True\n",
    "        C = 0.5-step    \n",
    "        int_y = np.cumsum(y)/T\n",
    "        while (yes == True) and (C<1.0):\n",
    "            C += step\n",
    "            for t in range(1,T-1):\n",
    "                x = float(t)/T \n",
    "                for alpha in [alpha_step*i for i in range(1,alpha_T)]:                \n",
    "                    val = min(1,1-(C - int_y[t-1]/alpha)/x/(1-x)*alpha\\\n",
    "                              /(np.power(1+np.power(alpha/x*(1-x)/(1-alpha), 1/g),g)-1))\n",
    "                    if val < y[t]:\n",
    "                        yes = False\n",
    "        print(g,C)\n",
    "        perf.append((g,C))\n",
    "    return(perf)"
   ]
  },
  {
   "cell_type": "code",
   "execution_count": 4,
   "id": "2a87a0a2",
   "metadata": {},
   "outputs": [
    {
     "name": "stdout",
     "output_type": "stream",
     "text": [
      "1.0 0.6700000000000002\n",
      "0.9 0.6500000000000001\n"
     ]
    }
   ],
   "source": [
    "y,int_y = computes_discount_function([1.0,0.9],100,0.01)"
   ]
  },
  {
   "cell_type": "code",
   "execution_count": 6,
   "id": "ded84bdc",
   "metadata": {},
   "outputs": [
    {
     "name": "stdout",
     "output_type": "stream",
     "text": [
      "1.0 0.6700000000000002\n",
      "0.9 0.6400000000000001\n"
     ]
    },
    {
     "data": {
      "text/plain": [
       "[(1.0, 0.6700000000000002), (0.9, 0.6400000000000001)]"
      ]
     },
     "execution_count": 6,
     "metadata": {},
     "output_type": "execute_result"
    }
   ],
   "source": [
    "computes_approximation_guarantee([1.0,0.9],y[0,:],0.0001,0.01,100)"
   ]
  },
  {
   "cell_type": "code",
   "execution_count": 7,
   "id": "35afbe7c",
   "metadata": {},
   "outputs": [
    {
     "name": "stdout",
     "output_type": "stream",
     "text": [
      "1.0 0.6600000000000001\n",
      "0.9 0.6500000000000001\n"
     ]
    },
    {
     "data": {
      "text/plain": [
       "[(1.0, 0.6600000000000001), (0.9, 0.6500000000000001)]"
      ]
     },
     "execution_count": 7,
     "metadata": {},
     "output_type": "execute_result"
    }
   ],
   "source": [
    "computes_approximation_guarantee([1.0,0.9],y[1,:],0.0001,0.01,100)"
   ]
  },
  {
   "cell_type": "code",
   "execution_count": 16,
   "id": "9ceabbcb",
   "metadata": {},
   "outputs": [
    {
     "name": "stdout",
     "output_type": "stream",
     "text": [
      "1.0 0.6780000000000002\n"
     ]
    }
   ],
   "source": [
    "y,int_y = computes_discount_function([1.0],200,0.002)"
   ]
  },
  {
   "cell_type": "code",
   "execution_count": 13,
   "id": "b50a95b3",
   "metadata": {},
   "outputs": [],
   "source": [
    "discounts = np.load('discount_functions_updated.npy')"
   ]
  },
  {
   "cell_type": "code",
   "execution_count": 15,
   "id": "91f1a809",
   "metadata": {},
   "outputs": [
    {
     "name": "stdout",
     "output_type": "stream",
     "text": [
      "1.0 0.6800000000000002\n",
      "0.9 0.6600000000000001\n",
      "0.8 0.6400000000000001\n",
      "0.7 0.6200000000000001\n",
      "0.6 0.5900000000000001\n",
      "0.5 0.5700000000000001\n",
      "0.3999999999999999 0.54\n"
     ]
    },
    {
     "name": "stderr",
     "output_type": "stream",
     "text": [
      "/var/folders/_q/yp3tzh0d0bsbq4hr9q1fh5qx_ztrgb/T/ipykernel_88243/3683853862.py:169: RuntimeWarning: divide by zero encountered in double_scalars\n",
      "  val = min(1,1-(C - int_y[t-1]/alpha)/x/(1-x)*alpha\\\n"
     ]
    },
    {
     "name": "stdout",
     "output_type": "stream",
     "text": [
      "0.29999999999999993 0.52\n",
      "0.19999999999999996 0.51\n"
     ]
    }
   ],
   "source": [
    "for q in range(discounts.shape[0]):\n",
    "    computes_approximation_guarantee([1-0.1*q],discounts[q,:],0.0001,0.01,200)"
   ]
  }
 ],
 "metadata": {
  "kernelspec": {
   "display_name": "Python 3",
   "language": "python",
   "name": "python3"
  },
  "language_info": {
   "codemirror_mode": {
    "name": "ipython",
    "version": 3
   },
   "file_extension": ".py",
   "mimetype": "text/x-python",
   "name": "python",
   "nbconvert_exporter": "python",
   "pygments_lexer": "ipython3",
   "version": "3.8.13"
  }
 },
 "nbformat": 4,
 "nbformat_minor": 5
}
